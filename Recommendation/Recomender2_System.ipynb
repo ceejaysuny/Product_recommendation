{
 "cells": [
  {
   "cell_type": "code",
   "execution_count": null,
   "id": "22e20cba-44f5-4576-83ca-33458332b0b3",
   "metadata": {},
   "outputs": [],
   "source": [
    "Objective:Build a recommendation engine for products in the \"All_Beauty\" category.\n",
    "Deliverable: A system recommending products based on user behavior and product metadata.\n",
    "\n",
    "Link to download dataset:\n",
    "    \n",
    "https://amazon-reviews-2023.github.io/\n",
    "\n",
    "https://mcauleylab.ucsd.edu/public_datasets/data/amazon_2023/raw/review_categories/All_Beauty.jsonl.gz\n",
    "https://mcauleylab.ucsd.edu/public_datasets/data/amazon_2023/raw/meta_categories/meta_All_Beauty.jsonl.gz"
   ]
  },
  {
   "cell_type": "code",
   "execution_count": null,
   "id": "127810b1-b7f4-4c65-b9aa-903566cb7e00",
   "metadata": {
    "tags": []
   },
   "outputs": [],
   "source": [
    "#!pip install pandas numpy scipy scikit-learn matplotlib seaborn tensorflow flask\n"
   ]
  },
  {
   "cell_type": "code",
   "execution_count": 4,
   "id": "01b79187-93c0-46fa-a7df-098ef64064ac",
   "metadata": {
    "tags": []
   },
   "outputs": [],
   "source": [
    "# Import libraries\n",
    "import pandas as pd\n",
    "import numpy as np\n",
    "from sklearn.model_selection import train_test_split\n",
    "from sklearn.metrics import mean_squared_error\n",
    "from scipy.sparse import csr_matrix\n",
    "from sklearn.neighbors import NearestNeighbors\n",
    "from scipy.sparse.linalg import svds"
   ]
  },
  {
   "cell_type": "code",
   "execution_count": 8,
   "id": "62d148d3-0387-4750-ba1c-2e8e02e46bc5",
   "metadata": {
    "tags": []
   },
   "outputs": [],
   "source": [
    "# Data Preprocessing\n",
    "#Load the dataset:\n",
    "  \n",
    "  \n",
    "reviews = pd.read_json('All_Beauty.jsonl', lines=True)\n",
    "metadata = pd.read_json('meta_All_Beauty.jsonl', lines=True)\n",
    "\n"
   ]
  },
  {
   "cell_type": "code",
   "execution_count": 4,
   "id": "b06b944a-1f46-4593-a87d-3fd9bda84ae5",
   "metadata": {
    "tags": []
   },
   "outputs": [
    {
     "name": "stdout",
     "output_type": "stream",
     "text": [
      "   rating                                      title  \\\n",
      "0       5  Such a lovely scent but not overpowering.   \n",
      "1       4     Works great but smells a little weird.   \n",
      "2       5                                       Yes!   \n",
      "3       1                          Synthetic feeling   \n",
      "4       5                                         A+   \n",
      "\n",
      "                                                text images        asin  \\\n",
      "0  This spray is really nice. It smells really go...     []  B00YQ6X8EO   \n",
      "1  This product does what I need it to do, I just...     []  B081TJ8YS3   \n",
      "2                          Smells good, feels great!     []  B07PNNCSP9   \n",
      "3                                     Felt synthetic     []  B09JS339BZ   \n",
      "4                                            Love it     []  B08BZ63GMJ   \n",
      "\n",
      "  parent_asin                       user_id               timestamp  \\\n",
      "0  B00YQ6X8EO  AGKHLEW2SOWHNMFQIJGBECAF7INQ 2020-05-05 14:08:48.923   \n",
      "1  B081TJ8YS3  AGKHLEW2SOWHNMFQIJGBECAF7INQ 2020-05-04 18:10:55.070   \n",
      "2  B097R46CSY  AE74DYR3QUGVPZJ3P7RFWBGIX7XQ 2020-05-16 21:41:06.052   \n",
      "3  B09JS339BZ  AFQLNQNQYFWQZPJQZS6V3NZU4QBQ 2022-01-28 18:13:50.220   \n",
      "4  B08BZ63GMJ  AFQLNQNQYFWQZPJQZS6V3NZU4QBQ 2020-12-30 10:02:43.534   \n",
      "\n",
      "   helpful_vote  verified_purchase  \n",
      "0             0               True  \n",
      "1             1               True  \n",
      "2             2               True  \n",
      "3             0               True  \n",
      "4             0               True  \n"
     ]
    }
   ],
   "source": [
    "print(reviews.head())"
   ]
  },
  {
   "cell_type": "code",
   "execution_count": 4,
   "id": "5a45a525-259f-417f-9c20-55c80dc8bfa6",
   "metadata": {
    "tags": []
   },
   "outputs": [],
   "source": [
    "# Drop unnecessary columns for Reviews that are not needed for product recomendation\n",
    "reviews_selected_features = reviews[['user_id', 'asin', 'rating', 'helpful_vote', 'verified_purchase', 'parent_asin']]\n"
   ]
  },
  {
   "cell_type": "code",
   "execution_count": null,
   "id": "596325a8-cca7-4115-bdfa-99c21076befe",
   "metadata": {
    "tags": []
   },
   "outputs": [],
   "source": [
    "# View number of columns and rows\n",
    "reviews_selected_features.shape"
   ]
  },
  {
   "cell_type": "code",
   "execution_count": 5,
   "id": "8c99a48c-9361-47e6-ad13-cb901610e0cf",
   "metadata": {
    "tags": []
   },
   "outputs": [
    {
     "name": "stdout",
     "output_type": "stream",
     "text": [
      "user_id              0\n",
      "asin                 0\n",
      "rating               0\n",
      "helpful_vote         0\n",
      "verified_purchase    0\n",
      "parent_asin          0\n",
      "dtype: int64\n"
     ]
    }
   ],
   "source": [
    "# Inspect the number of missing values in each column \n",
    "print(reviews_selected_features[['user_id', 'asin', 'rating', 'helpful_vote', 'verified_purchase', 'parent_asin']].isna().sum())"
   ]
  },
  {
   "cell_type": "markdown",
   "id": "3bb1369c-033e-441f-bb60-11172042b7b2",
   "metadata": {},
   "source": [
    "Let work on metadata"
   ]
  },
  {
   "cell_type": "code",
   "execution_count": 6,
   "id": "5259227b-d260-4d7a-8702-f35ddec4de1e",
   "metadata": {
    "tags": []
   },
   "outputs": [],
   "source": [
    "# Select features for the recommendation system\n",
    "# Drop unnecessary columns and handle missing values for Metadata\n",
    "#'categories'and 'bought_together' contained empty data in all the rows. So we need to remove it\n",
    "metadata_selected_features = metadata[['title', 'average_rating', 'rating_number', 'price', 'parent_asin', 'description']]\n",
    "\n",
    "\n"
   ]
  },
  {
   "cell_type": "code",
   "execution_count": null,
   "id": "d5884a25-3d47-4acd-bc99-810ec47264b8",
   "metadata": {
    "tags": []
   },
   "outputs": [],
   "source": [
    "# Inspect the number of missing values in each column \n",
    "print(metadata_selected_features[['title', 'average_rating', 'rating_number', 'price', 'parent_asin', 'description']].isna().sum())"
   ]
  },
  {
   "cell_type": "code",
   "execution_count": 7,
   "id": "bff5733d-0214-4de9-9a63-3b8af5a3da61",
   "metadata": {
    "tags": []
   },
   "outputs": [],
   "source": [
    "# we have seen that there are missing values on the some price columns\n",
    "# Fill missing price values with the median using .loc[]\n",
    "metadata_selected_features.loc[:, 'price'] = metadata_selected_features['price'].fillna(metadata_selected_features['price'].median())\n"
   ]
  },
  {
   "cell_type": "code",
   "execution_count": null,
   "id": "eaf6ced4-7f15-4d03-b726-cd344c4c6dc3",
   "metadata": {
    "tags": []
   },
   "outputs": [],
   "source": [
    "# Inspect the number of missing values in each column \n",
    "print(metadata_selected_features[['title', 'average_rating', 'rating_number', 'price', 'parent_asin', 'description']].isna().sum())"
   ]
  },
  {
   "cell_type": "code",
   "execution_count": null,
   "id": "343d427d-6ee2-4081-ad8f-212efb250e42",
   "metadata": {
    "tags": []
   },
   "outputs": [],
   "source": [
    "#Below code check if there are multiple ratings for the same user_id and asin\n",
    "# Group by user_id and asin and count the number of ratings\n",
    "duplicates = reviews_selected_features.groupby(['user_id', 'asin']).size().reset_index(name='count')\n",
    "\n",
    "# Filter to find combinations with more than one rating\n",
    "duplicate_ratings = duplicates[duplicates['count'] > 1]\n",
    "\n",
    "# Display the duplicate ratings\n",
    "print(f\"Number of duplicate entries: {len(duplicate_ratings)}\")\n",
    "print(duplicate_ratings)\n"
   ]
  },
  {
   "cell_type": "markdown",
   "id": "6e851270-b543-46fb-9c1b-b2b209e77b25",
   "metadata": {},
   "source": [
    "When we tr to create user_item_matrix. We will get memory overflow error. The error indicates that the matrix being created is too large for your system to handle. \n",
    "This happens because the pivot_table function is attempting to generate a matrix with an enormous number of cells, \n",
    "resulting in an overflow or memory issues.\n",
    "\n",
    "How to Fix It\n",
    "1. Filter or Sample the Data\n",
    "Reduce the size of the dataset by working with a subset of users or products"
   ]
  },
  {
   "cell_type": "code",
   "execution_count": 8,
   "id": "ca719577-c06f-4532-bebf-b50de89f4828",
   "metadata": {
    "tags": []
   },
   "outputs": [],
   "source": [
    "# Filter top N users and products\n",
    "top_users = reviews_selected_features['user_id'].value_counts().head(1000).index\n",
    "top_products = reviews_selected_features['asin'].value_counts().head(1000).index\n",
    "\n",
    "filtered_data = reviews_selected_features[\n",
    "    reviews_selected_features['user_id'].isin(top_users) &\n",
    "    reviews_selected_features['asin'].isin(top_products)\n",
    "]\n"
   ]
  },
  {
   "cell_type": "code",
   "execution_count": 10,
   "id": "b54ac723-f569-4199-9e55-447e58e1f74e",
   "metadata": {
    "tags": []
   },
   "outputs": [
    {
     "name": "stdout",
     "output_type": "stream",
     "text": [
      "Index(['B007IAE5WY', 'B00EEN2HCS', 'B07C533XCW', 'B00R1TAN7I', 'B08L5KN7X4',\n",
      "       'B019GBG0IE', 'B0719KWG8H', 'B0092MCQZ4', 'B0107QYW14', 'B0070Z7KME',\n",
      "       ...\n",
      "       'B00MQTR48E', 'B00RQ6RXPQ', 'B01CZY0LKW', 'B074FST3SZ', 'B00UB7D60I',\n",
      "       'B08HP6FM6K', 'B07H23KW68', 'B012H5V5PE', 'B01BZVADRW', 'B000GCVVWI'],\n",
      "      dtype='object', name='asin', length=1000)\n"
     ]
    }
   ],
   "source": [
    "print(top_products)"
   ]
  },
  {
   "cell_type": "code",
   "execution_count": null,
   "id": "f8ad2ab7-0b60-43a8-b991-a8d2279c3207",
   "metadata": {
    "tags": []
   },
   "outputs": [],
   "source": [
    "#Create a user-item matrix:\n",
    "user_item_matrix = filtered_data.pivot_table(index='user_id', columns='asin', values='rating')\n"
   ]
  },
  {
   "cell_type": "code",
   "execution_count": null,
   "id": "2a86871c-2b4d-4008-aa07-9f03734213b7",
   "metadata": {
    "tags": []
   },
   "outputs": [],
   "source": [
    "print(user_item_matrix.head())"
   ]
  },
  {
   "cell_type": "code",
   "execution_count": null,
   "id": "ab9122de-8281-40a8-9702-117c8dd2c130",
   "metadata": {
    "tags": []
   },
   "outputs": [],
   "source": [
    "# Collaborative Filtering Example**\n",
    "#Using Singular Value Decomposition (SVD)**:\n",
    "from scipy.sparse.linalg import svds\n",
    "\n",
    "# Fill missing ratings with 0\n",
    "user_item_matrix.fillna(0, inplace=True)\n",
    "matrix = user_item_matrix.values\n",
    "\n",
    "# Apply SVD\n",
    "U, sigma, Vt = svds(matrix, k=50)\n",
    "sigma = np.diag(sigma)\n",
    "\n",
    "# Reconstruct matrix\n",
    "predicted_ratings = np.dot(np.dot(U, sigma), Vt)\n",
    "predicted_ratings_df = pd.DataFrame(predicted_ratings, index=user_item_matrix.index, columns=user_item_matrix.columns)"
   ]
  },
  {
   "cell_type": "code",
   "execution_count": null,
   "id": "9db75edd-ac8d-4382-9fa7-299c01328b98",
   "metadata": {
    "tags": []
   },
   "outputs": [],
   "source": [
    "#Content-Based Filtering Example\n",
    "#Vectorize Metadata**:\n",
    " \n",
    "from sklearn.feature_extraction.text import TfidfVectorizer\n",
    "from sklearn.metrics.pairwise import cosine_similarity\n",
    "\n",
    "\n",
    "tfidf = TfidfVectorizer(stop_words='english')\n",
    "tfidf_matrix = tfidf.fit_transform(metadata_selected_features['description'].apply(lambda x: ' '.join(x)))\n",
    "\n",
    "# Compute similarity\n",
    "#cosine_sim = cosine_similarity(tfidf_matrix, tfidf_matrix)\n",
    "\n",
    "# Compute sparse similarity to reduce the data size and prevent error due to insurficient memory\n",
    "cosine_sim = cosine_similarity(tfidf_matrix, dense_output=False)"
   ]
  },
  {
   "cell_type": "code",
   "execution_count": null,
   "id": "33ba835e-8226-4aeb-a265-532c49008ab0",
   "metadata": {
    "tags": []
   },
   "outputs": [],
   "source": [
    "#To \"train\" this model, focus on hyperparameter tuning (e.g., the number of latent factors, k).\n",
    "from sklearn.model_selection import train_test_split\n",
    "\n",
    "# Split data into train and test sets\n",
    "train_data, test_data = train_test_split(user_item_matrix, test_size=0.2, random_state=42)\n",
    "\n",
    "# Fill missing values in train/test sets\n",
    "train_data.fillna(0, inplace=True)\n",
    "test_data.fillna(0, inplace=True)\n",
    "\n",
    "# Apply SVD on training data\n",
    "U_train, sigma_train, Vt_train = svds(train_data.values, k=50)\n",
    "sigma_train = np.diag(sigma_train)\n",
    "\n",
    "# Reconstruct train matrix\n",
    "predicted_ratings_train = np.dot(np.dot(U_train, sigma_train), Vt_train)\n",
    "predicted_ratings_train_df = pd.DataFrame(predicted_ratings_train, index=train_data.index, columns=train_data.columns)\n"
   ]
  },
  {
   "cell_type": "code",
   "execution_count": null,
   "id": "a18514d1-582e-49cc-8338-354954f08960",
   "metadata": {
    "tags": []
   },
   "outputs": [],
   "source": [
    "#Content-Based Filtering (Using Metadata):\n",
    "#We have already computed similarity using TF-IDF.\n",
    "#Use the cosine_sim matrix to find the top-N similar items for each product.\n",
    "\n",
    "# Example: Get top-10 similar items for a specific item\n",
    "item_idx = 0  # Example item index\n",
    "similar_items = cosine_sim[item_idx].toarray().flatten()\n",
    "top_similar_indices = similar_items.argsort()[-10:][::-1]\n",
    "\n",
    "# List of top-10 similar items\n",
    "top_similar_items = metadata.iloc[top_similar_indices]\n",
    "\n",
    "print(top_similar_items)\n"
   ]
  },
  {
   "cell_type": "code",
   "execution_count": null,
   "id": "c0ad55ea-1578-48ca-94f2-5380ba07115a",
   "metadata": {
    "tags": []
   },
   "outputs": [],
   "source": [
    "#Evaluate the Model\n",
    "#Offline Metrics:\n",
    "#Use evaluation metrics like Precision@K, Recall@K, and NDCG@K on the test set.\n",
    "\n",
    "#Precision@K and Recall@K:\n",
    "\n",
    "def precision_recall_at_k(predicted, actual, k=10):\n",
    "    # Sort predictions by score\n",
    "    top_k_items = predicted.argsort()[-k:][::-1]\n",
    "\n",
    "    # Relevant items\n",
    "    relevant = set(actual.nonzero()[0])  # Indices of actual items\n",
    "    recommended = set(top_k_items)\n",
    "\n",
    "    precision = len(recommended & relevant) / len(recommended)\n",
    "    recall = len(recommended & relevant) / len(relevant) if relevant else 0\n",
    "\n",
    "    return precision, recall\n",
    "\n",
    "# Evaluate for a specific user\n",
    "user_idx = 0  # Example user index\n",
    "predicted_ratings_user = predicted_ratings_df.iloc[user_idx].values\n",
    "actual_ratings_user = test_data.iloc[user_idx].values\n",
    "\n",
    "precision, recall = precision_recall_at_k(predicted_ratings_user, actual_ratings_user, k=10)\n",
    "print(f\"Precision@10: {precision:.4f}, Recall@10: {recall:.4f}\")\n"
   ]
  },
  {
   "cell_type": "code",
   "execution_count": null,
   "id": "fe09caa3-5aa8-49e8-8ec8-343cd4a1b743",
   "metadata": {
    "tags": []
   },
   "outputs": [],
   "source": [
    "#NDCG@K:\n",
    "def ndcg_at_k(predicted, actual, k=10):\n",
    "    top_k_items = predicted.argsort()[-k:][::-1]\n",
    "    dcg = sum([actual[idx] / np.log2(i + 2) for i, idx in enumerate(top_k_items)])\n",
    "    idcg = sum([1.0 / np.log2(i + 2) for i in range(min(k, sum(actual > 0)))])\n",
    "    return dcg / idcg if idcg > 0 else 0\n",
    "\n",
    "ndcg = ndcg_at_k(predicted_ratings_user, actual_ratings_user, k=10)\n",
    "print(f\"NDCG@10: {ndcg:.4f}\")\n"
   ]
  },
  {
   "cell_type": "code",
   "execution_count": null,
   "id": "e75fe5e9-65f0-4b50-990e-1262b47199c1",
   "metadata": {
    "tags": []
   },
   "outputs": [],
   "source": [
    "# Model Deployment\n",
    "#Step 1: Save the Model\n",
    "#Use joblib or pickle to save the collaborative filtering matrix and the content-based similarity matrix.\n",
    "#Since we are working with Large datasets. We can have error due to insurficient memory or space.\n",
    "\n",
    "#To solve this problem\n",
    "#We need to Optimize the Model by\n",
    "#Converting large matrices or dataframes to efficient formats (e.g., float32 instead of float64) before saving.\n",
    "\n",
    "import joblib\n",
    "predicted_ratings_df = predicted_ratings_df.astype(np.float32)\n",
    "cosine_sim = cosine_sim.astype(np.float32)\n",
    "joblib.dump(predicted_ratings_df, 'collaborative_model.pkl')\n",
    "# Save the content-based similarity matrix\n",
    "joblib.dump(cosine_sim, 'content_similarity_model.pkl')\n",
    "#joblib.dump(cosine_sim, 'content_similarity_model.pkl', compress=('zlib', 3))\n",
    "\n"
   ]
  },
  {
   "cell_type": "code",
   "execution_count": null,
   "id": "90126e7a-0756-49ee-b169-838c537eb833",
   "metadata": {
    "tags": []
   },
   "outputs": [],
   "source": []
  },
  {
   "cell_type": "code",
   "execution_count": 2,
   "id": "12c39877-f82c-4dee-896c-50c28d635440",
   "metadata": {
    "tags": []
   },
   "outputs": [],
   "source": [
    "import joblib\n",
    "\n",
    "#Testing\n",
    "#After applying these optimizations, verify that the models load correctly:\n",
    "model = joblib.load('collaborative_model.pkl')\n",
    "#print(model.head())"
   ]
  },
  {
   "cell_type": "code",
   "execution_count": 13,
   "id": "aa217161-0302-4c84-802c-6820771e64cc",
   "metadata": {
    "tags": []
   },
   "outputs": [],
   "source": [
    "#Here is we created code to generate random users from trained model\n",
    "#We can generate product recomendation to each users using the model\n",
    "\n",
    "import random\n",
    "\n",
    "result = model.index.tolist()  \n",
    "random_users = random.sample(result, 5)\n",
    "#users =  jsonify({'users': random_users})"
   ]
  },
  {
   "cell_type": "code",
   "execution_count": 14,
   "id": "1279d8aa-668e-42ba-ba34-183ffe9a1475",
   "metadata": {
    "tags": []
   },
   "outputs": [
    {
     "name": "stdout",
     "output_type": "stream",
     "text": [
      "['AHD5AUM4JPOAU4UYIULMT7PRNO5Q', 'AHT7TDFPRBZE3GH7RFKCPSCEAR5Q', 'AHC4WQGKGVP5UQ2FRGWY6TWAOETA', 'AFQ6MBCUFDVAEPXE5ME33KEPHPJQ', 'AH3BXW7KLIS2VAE56UXJS2NS7I5A']\n"
     ]
    }
   ],
   "source": [
    "print(random_users)"
   ]
  },
  {
   "cell_type": "code",
   "execution_count": 16,
   "id": "35da5f84-2a3c-4ca4-8efa-9f345c8553f5",
   "metadata": {
    "tags": []
   },
   "outputs": [],
   "source": [
    "import joblib\n",
    "\n",
    "#Testing the second model\n",
    "#After applying these optimizations, verify that the models load correctly:\n",
    "model2 = joblib.load('content_similarity_model.pkl')\n",
    "#print(model2)"
   ]
  },
  {
   "cell_type": "code",
   "execution_count": 21,
   "id": "0ddc5e07-1241-43d6-8305-1cedf84d667c",
   "metadata": {
    "tags": []
   },
   "outputs": [
    {
     "name": "stdout",
     "output_type": "stream",
     "text": [
      "Random product IDs: [89842, 98485, 25973, 98706, 73880]\n"
     ]
    }
   ],
   "source": [
    "\n",
    "\n",
    "# Extract product IDs\n",
    "# Assuming model2 is a sparse matrix, use the `.tocoo()` method\n",
    "coo_matrix = model2.tocoo()  # Convert to COO format to access row and column indices\n",
    "product_ids = list(set(coo_matrix.row))  # Get unique product IDs from row indices\n",
    "\n",
    "# Generate 5 random product IDs each time\n",
    "random_ids = random.sample(product_ids, 5)\n",
    "\n",
    "# Print the random product IDs\n",
    "print(\"Random product IDs:\", random_ids)\n"
   ]
  },
  {
   "cell_type": "code",
   "execution_count": 30,
   "id": "28ec74c7-7b1f-4923-8c6c-2e9b44c47712",
   "metadata": {
    "tags": []
   },
   "outputs": [
    {
     "name": "stdout",
     "output_type": "stream",
     "text": [
      "Random product IDs: [102593, 101152, 51089, 106165, 89411]\n"
     ]
    }
   ],
   "source": [
    "# Generate 5 random product IDs each time\n",
    "random_ids = random.sample(product_ids, 5)\n",
    "\n",
    "# Print the random product IDs\n",
    "print(\"Random product IDs:\", random_ids)"
   ]
  },
  {
   "cell_type": "code",
   "execution_count": 28,
   "id": "84d681b1-ee10-4b10-af91-5abac9b7ecb2",
   "metadata": {
    "tags": []
   },
   "outputs": [
    {
     "name": "stdout",
     "output_type": "stream",
     "text": [
      "  (4, 4)\t1.0\n",
      "  (4, 5)\t0.025714375\n",
      "  (4, 14)\t0.007455758\n",
      "  (4, 16)\t0.0053584795\n",
      "  (4, 22)\t0.003725506\n",
      "  (4, 24)\t0.008141328\n",
      "  (4, 25)\t0.028050074\n",
      "  (4, 31)\t0.0040644486\n",
      "  (4, 32)\t0.020614235\n",
      "  (4, 56)\t0.0126424255\n",
      "  (4, 64)\t0.008102727\n",
      "  (4, 66)\t0.017579852\n",
      "  (4, 98)\t0.060566526\n",
      "  (4, 169)\t0.035372905\n",
      "  (4, 186)\t0.0024434882\n",
      "  (4, 196)\t0.009983616\n",
      "  (4, 199)\t0.029806105\n",
      "  (4, 201)\t0.01699377\n",
      "  (4, 215)\t0.003272786\n",
      "  (4, 221)\t0.014466974\n",
      "  (4, 225)\t0.016566284\n",
      "  (4, 227)\t0.015423606\n",
      "  (4, 229)\t0.02498089\n",
      "  (4, 231)\t0.008248983\n",
      "  (4, 241)\t0.006958873\n",
      "  :\t:\n",
      "  (112578, 107587)\t0.02752059\n",
      "  (112578, 107967)\t0.03806353\n",
      "  (112578, 108000)\t0.055045705\n",
      "  (112578, 108223)\t0.08080182\n",
      "  (112578, 108361)\t0.025584362\n",
      "  (112578, 108495)\t0.01192527\n",
      "  (112578, 108625)\t0.029470121\n",
      "  (112578, 108651)\t0.03626448\n",
      "  (112578, 109221)\t0.025818396\n",
      "  (112578, 109392)\t0.028427133\n",
      "  (112578, 109397)\t0.0498002\n",
      "  (112578, 109422)\t0.06262538\n",
      "  (112578, 109483)\t0.04839668\n",
      "  (112578, 109613)\t0.026121575\n",
      "  (112578, 110277)\t0.035386235\n",
      "  (112578, 110517)\t0.024103675\n",
      "  (112578, 110544)\t0.023590956\n",
      "  (112578, 110918)\t0.018734006\n",
      "  (112578, 110994)\t0.035688713\n",
      "  (112578, 111357)\t0.034931473\n",
      "  (112578, 111659)\t0.02954333\n",
      "  (112578, 112190)\t0.013726116\n",
      "  (112578, 112248)\t0.052086815\n",
      "  (112578, 112345)\t0.031748418\n",
      "  (112578, 112578)\t1.0\n"
     ]
    }
   ],
   "source": [
    "print(model2)"
   ]
  },
  {
   "cell_type": "code",
   "execution_count": 17,
   "id": "00ac207f-b75c-42f5-97ed-a783821fb695",
   "metadata": {
    "tags": []
   },
   "outputs": [
    {
     "name": "stdout",
     "output_type": "stream",
     "text": [
      "[<1x112590 sparse matrix of type '<class 'numpy.float32'>'\n",
      "\twith 4636 stored elements in Compressed Sparse Row format>, <1x112590 sparse matrix of type '<class 'numpy.float32'>'\n",
      "\twith 0 stored elements in Compressed Sparse Row format>, <1x112590 sparse matrix of type '<class 'numpy.float32'>'\n",
      "\twith 0 stored elements in Compressed Sparse Row format>, <1x112590 sparse matrix of type '<class 'numpy.float32'>'\n",
      "\twith 4216 stored elements in Compressed Sparse Row format>, <1x112590 sparse matrix of type '<class 'numpy.float32'>'\n",
      "\twith 0 stored elements in Compressed Sparse Row format>]\n"
     ]
    }
   ],
   "source": [
    "products = list(model2)  # Adjust as per your model's structure\n",
    "random_products = random.sample(products, 5)\n",
    "#return jsonify({'products': random_products})\n",
    "print(random_products)"
   ]
  },
  {
   "cell_type": "code",
   "execution_count": null,
   "id": "b8d5c3fd-8461-46d5-90fd-ed162f5cd920",
   "metadata": {
    "tags": []
   },
   "outputs": [],
   "source": [
    "\n",
    "#Runing this code will produce this error (OSError: [Errno 28] No space left on device)\n",
    "# Model Deployment\n",
    "#Step 1: Save the Model\n",
    "#Use joblib or pickle to save the collaborative filtering matrix and the content-based similarity matrix.\n",
    "\n",
    "\n",
    "import joblib\n",
    "\n",
    "# Save the collaborative filtering predicted ratings\n",
    "joblib.dump(predicted_ratings_df, 'collaborative_model.pkl')\n",
    "\n",
    "# Save the content-based similarity matrix\n",
    "joblib.dump(cosine_sim, 'content_similarity_model.pkl')\n"
   ]
  },
  {
   "cell_type": "code",
   "execution_count": null,
   "id": "5b73c8c6-732e-4e50-b2d2-5659e9a9df01",
   "metadata": {},
   "outputs": [],
   "source": [
    "#Here we created web for testing the recommendation model\n",
    "\n",
    "#Frontend Integration\n",
    "#Step 1: We Develop a Simple UI\n",
    "#Create a minimal HTML/CSS/JavaScript frontend to display recommendations.\n",
    "\n",
    "#Example index.html:\n",
    "\n",
    "#We placeed index.html inside template of our flast program\n",
    "\n",
    "<!DOCTYPE html>\n",
    "<html lang=\"en\">\n",
    "<head>\n",
    "    <meta charset=\"UTF-8\">\n",
    "    <meta name=\"viewport\" content=\"width=device-width, initial-scale=1.0\">\n",
    "    <title>Product Recommendation System</title>\n",
    "    <style>\n",
    "        body {\n",
    "            font-family: Arial, sans-serif;\n",
    "            background-color: #f8f9fa;\n",
    "            margin: 0;\n",
    "            padding: 0;\n",
    "        }\n",
    "        .container {\n",
    "            width: 50%;\n",
    "            margin: auto;\n",
    "            padding: 20px;\n",
    "            background-color: #ffffff;\n",
    "            border-radius: 8px;\n",
    "            box-shadow: 0 0 10px rgba(0, 0, 0, 0.1);\n",
    "            margin-top: 50px;\n",
    "        }\n",
    "        h1 {\n",
    "            text-align: center;\n",
    "            color: #343a40;\n",
    "        }\n",
    "        form {\n",
    "            display: flex;\n",
    "            flex-direction: column;\n",
    "        }\n",
    "        label {\n",
    "            margin-bottom: 10px;\n",
    "            font-weight: bold;\n",
    "        }\n",
    "        input, select {\n",
    "            margin-bottom: 20px;\n",
    "            padding: 10px;\n",
    "            font-size: 16px;\n",
    "            border: 1px solid #ced4da;\n",
    "            border-radius: 4px;\n",
    "        }\n",
    "        button {\n",
    "            padding: 10px;\n",
    "            font-size: 16px;\n",
    "            color: #ffffff;\n",
    "            background-color: #007bff;\n",
    "            border: none;\n",
    "            border-radius: 4px;\n",
    "            cursor: pointer;\n",
    "        }\n",
    "        button:hover {\n",
    "            background-color: #0056b3;\n",
    "        }\n",
    "        .result {\n",
    "            margin-top: 20px;\n",
    "            padding: 10px;\n",
    "            background-color: #e9ecef;\n",
    "            border-radius: 4px;\n",
    "        }\n",
    "        .extra-buttons {\n",
    "            display: flex;\n",
    "            justify-content: space-between;\n",
    "            margin-bottom: 20px;\n",
    "        }\n",
    "        \n",
    "        \n",
    "    table {\n",
    "        width: 100%;\n",
    "        border-collapse: collapse;\n",
    "        margin: 20px 0;\n",
    "        font-size: 18px;\n",
    "        text-align: left;\n",
    "    }\n",
    "    table th, table td {\n",
    "        border: 1px solid #ddd;\n",
    "        padding: 8px;\n",
    "    }\n",
    "    table th {\n",
    "        background-color: #f4f4f4;\n",
    "        color: #333;\n",
    "        text-transform: uppercase;\n",
    "    }\n",
    "    table tr:nth-child(even) {\n",
    "        background-color: #f9f9f9;\n",
    "    }\n",
    "    table tr:hover {\n",
    "        background-color: #f1f1f1;\n",
    "    }\n",
    "    h2 {\n",
    "        font-family: Arial, sans-serif;\n",
    "        color: #333;\n",
    "    }\n",
    "\n",
    "\n",
    "    </style>\n",
    "</head>\n",
    "<body>\n",
    "    <div class=\"container\">\n",
    "        <h1>Product Recommendation System</h1>\n",
    "        <div class=\"extra-buttons\">\n",
    "            <button onclick=\"generateUsers()\">Generate 5 Random Users</button>\n",
    "            <button onclick=\"generateProducts()\">Generate 5 Product IDs</button>\n",
    "        </div>\n",
    "        <form id=\"recommendation-form\">\n",
    "            <label for=\"method\">Recommendation Method:</label>\n",
    "            <select id=\"method\" name=\"method\" onchange=\"toggleFields()\">\n",
    "                <option value=\"collaborative\">Collaborative</option>\n",
    "                <option value=\"content\">Content</option>\n",
    "            </select>\n",
    "\n",
    "            <label for=\"user_id\" id=\"user_id_label\">User ID (for Collaborative):</label>\n",
    "            <input type=\"text\" id=\"user_id\" name=\"user_id\">\n",
    "\n",
    "            <label for=\"item_id\" id=\"item_id_label\">Item ID (for Content):</label>\n",
    "            <input type=\"number\" id=\"item_id\" name=\"item_id\">\n",
    "\n",
    "            <button type=\"submit\">Get Recommendations</button>\n",
    "        </form>\n",
    "        <div class=\"result\" id=\"result\"></div>\n",
    "    \n",
    "    \n",
    "     <!-- New Section for Getting Titles -->       \n",
    "        \n",
    "      <div class=\"extra-actions\">\n",
    "        <label for=\"product-ids\">Enter 5 Sparse Matrix Product IDs:</label>\n",
    "        <input type=\"text\" id=\"product-ids\" placeholder=\"Comma-separated product IDs\" style=\"width: 100%; margin-bottom: 10px;\">\n",
    "        <button onclick=\"fetchTitlesFromIds()\" style=\"width: 100%; margin-bottom: 20px;\">Get Titles from Product IDs</button>\n",
    "\n",
    "        <label for=\"parent-asins\">Enter 5 Parent ASINs:</label>\n",
    "        <input type=\"text\" id=\"parent-asins\" placeholder=\"Comma-separated parent ASINs\" style=\"width: 100%; margin-bottom: 10px;\">\n",
    "        <button onclick=\"fetchTitlesFromAsins()\" style=\"width: 100%;\">Get Titles from Parent ASINs</button>\n",
    "      </div>\n",
    "\n",
    "\n",
    "        <!-- Results Table -->\n",
    "        <div id=\"result-table\"></div>\n",
    "    \n",
    "\n",
    "    </div>\n",
    "\n",
    "    <script>\n",
    "        function toggleFields() {\n",
    "            const method = document.getElementById('method').value;\n",
    "            const user_id_label = document.getElementById('user_id_label');\n",
    "            const user_id_input = document.getElementById('user_id');\n",
    "            const item_id_label = document.getElementById('item_id_label');\n",
    "            const item_id_input = document.getElementById('item_id');\n",
    "\n",
    "            if (method === 'collaborative') {\n",
    "                user_id_label.style.display = 'block';\n",
    "                user_id_input.style.display = 'block';\n",
    "                item_id_label.style.display = 'none';\n",
    "                item_id_input.style.display = 'none';\n",
    "            } else if (method === 'content') {\n",
    "                user_id_label.style.display = 'none';\n",
    "                user_id_input.style.display = 'none';\n",
    "                item_id_label.style.display = 'block';\n",
    "                item_id_input.style.display = 'block';\n",
    "            }\n",
    "        }\n",
    "\n",
    "        function generateUsers() {\n",
    "            fetch('/generate-random-users')\n",
    "                .then(response => response.json())\n",
    "                .then(data => {\n",
    "                    const resultDiv = document.getElementById('result');\n",
    "                    if (data.users) {\n",
    "                        resultDiv.innerHTML = '<h2>Random Users:</h2><ul>' + data.users.map(user => `<li>${user}</li>`).join('') + '</ul>';\n",
    "                    } else if (data.error) {\n",
    "                        resultDiv.innerHTML = `<h2>Error:</h2><p>${data.error}</p>`;\n",
    "                    }\n",
    "                })\n",
    "                .catch(error => {\n",
    "                    const resultDiv = document.getElementById('result');\n",
    "                    resultDiv.innerHTML = `<h2>Error:</h2><p>${error}</p>`;\n",
    "                });\n",
    "        }\n",
    "\n",
    "        \n",
    "  \n",
    "\n",
    "        \n",
    "        function generateProducts() {\n",
    "            fetch('/generate-random-products')\n",
    "                .then(response => response.json())\n",
    "                .then(data => {\n",
    "                    const resultDiv = document.getElementById('result');\n",
    "                    if (data.products) {\n",
    "                        resultDiv.innerHTML = '<h2>Random Product IDs:</h2><ul>' + data.products.map(product => `<li>${product}</li>`).join('') + '</ul>';\n",
    "                    } else if (data.error) {\n",
    "                        resultDiv.innerHTML = `<h2>Error:</h2><p>${data.error}</p>`;\n",
    "                    }\n",
    "                })\n",
    "                .catch(error => {\n",
    "                    const resultDiv = document.getElementById('result');\n",
    "                    resultDiv.innerHTML = `<h2>Error:</h2><p>${error}</p>`;\n",
    "                });\n",
    "        }\n",
    "        \n",
    "        \n",
    "        function fetchTitlesFromIds() {\n",
    "    const productIds = document.getElementById('product-ids').value.split(',').map(id => parseInt(id.trim()));\n",
    "    fetch('/get-titles-from-ids', {\n",
    "        method: 'POST',\n",
    "        headers: { 'Content-Type': 'application/json' },\n",
    "        body: JSON.stringify({ product_ids: productIds })\n",
    "    })\n",
    "    .then(response => {\n",
    "        if (!response.ok) {\n",
    "            throw new Error('Network response was not ok ' + response.statusText);\n",
    "        }\n",
    "        return response.json();\n",
    "    })\n",
    "    .then(data => {\n",
    "        if (!data.results) {\n",
    "            throw new Error('Invalid response structure');\n",
    "        }\n",
    "        displayResults_id(data.results, \"Titles from Product IDs\");\n",
    "    })\n",
    "    .catch(error => alert('Fetch error: ' + error.message));\n",
    "}\n",
    "\n",
    "        \n",
    "       \n",
    "        \n",
    "        function fetchTitlesFromAsins() {\n",
    "    const parentAsins = document.getElementById('parent-asins').value.split(',').map(id => id.trim());\n",
    "    fetch('/get-titles-from-asin', {\n",
    "        method: 'POST',\n",
    "        headers: { 'Content-Type': 'application/json' },\n",
    "        body: JSON.stringify({ parent_asins: parentAsins })\n",
    "    })\n",
    "    .then(response => {\n",
    "        if (!response.ok) {\n",
    "            throw new Error('Network response was not ok ' + response.statusText);\n",
    "        }\n",
    "        return response.json();\n",
    "    })\n",
    "    .then(data => {\n",
    "        if (!data.results) {\n",
    "            throw new Error('Invalid response structure');\n",
    "        }\n",
    "        displayResults(data.results, \"Titles from Parent ASINs\");\n",
    "    })\n",
    "    .catch(error => alert('Fetch error: ' + error.message));\n",
    "}\n",
    "\n",
    "function displayResults(results, heading) {\n",
    "    let html = `<h2>${heading}</h2><table><tr><th>Parent ASIN</th><th>Title</th></tr>`;\n",
    "    results.forEach(result => {\n",
    "        html += `<tr><td>${result.parent_asin}</td><td>${result.title}</td></tr>`;\n",
    "    });\n",
    "    html += `</table>`;\n",
    "    document.getElementById('result-table').innerHTML = html;\n",
    "}\n",
    "\n",
    "        \n",
    "        function displayResults_id(results, heading) {\n",
    "    let html = `<h2>${heading}</h2><table><tr><th>Product id</th><th>Title</th></tr>`;\n",
    "    results.forEach(result => {\n",
    "        html += `<tr><td>${result.product_id}</td><td>${result.title}</td></tr>`;\n",
    "    });\n",
    "    html += `</table>`;\n",
    "    document.getElementById('result-table').innerHTML = html;\n",
    "}\n",
    "\n",
    "\n",
    "\n",
    "        document.getElementById('recommendation-form').addEventListener('submit', function(event) {\n",
    "            event.preventDefault();\n",
    "\n",
    "            const method = document.getElementById('method').value;\n",
    "            const user_id = document.getElementById('user_id').value;\n",
    "            const item_id = document.getElementById('item_id').value;\n",
    "\n",
    "            const params = new URLSearchParams({\n",
    "                method: method,\n",
    "                user_id: user_id,\n",
    "                item_id: item_id\n",
    "            }).toString();\n",
    "\n",
    "            fetch(`/recommend?${params}`)\n",
    "                .then(response => response.json())\n",
    "                .then(data => {\n",
    "                    const resultDiv = document.getElementById('result');\n",
    "                    if (data.recommendations) {\n",
    "                        \n",
    "                        resultDiv.innerHTML = '<h2>Recommendations:</h2>[' + data.recommendations.map(item => `${item}`).join(', ') + ']';\n",
    "                        //resultDiv.innerHTML = '<h2>Recommendations:</h2><ul>' + data.recommendations.map(item => `<li>${item}</li>`).join('') + '</ul>';\n",
    "                    } else if (data.error) {\n",
    "                        resultDiv.innerHTML = `<h2>Error:</h2><p>${data.error}</p>`;\n",
    "                    }\n",
    "                })\n",
    "                .catch(error => {\n",
    "                    const resultDiv = document.getElementById('result');\n",
    "                    resultDiv.innerHTML = `<h2>Error:</h2><p>${error}</p>`;\n",
    "                });\n",
    "        });\n",
    "\n",
    "        // Initial call to set the fields based on the default selection\n",
    "        toggleFields();\n",
    "    </script>\n",
    "</body>\n",
    "</html>\n",
    "\n"
   ]
  },
  {
   "cell_type": "code",
   "execution_count": null,
   "id": "45ea4566-93a3-4a10-8f82-5df2da65dd8e",
   "metadata": {},
   "outputs": [],
   "source": [
    "# Step2, We expose Recommendations via an API\n",
    "#  you can Use Flask or FastAPI to create a REST API that provides recommendations.\n",
    "\n",
    "#Example with Flask:\n",
    "\n",
    "from flask import Flask, request, jsonify, render_template\n",
    "import joblib\n",
    "import numpy as np\n",
    "import pandas as pd\n",
    "import random\n",
    "import gc\n",
    "\n",
    "gc.collect()\n",
    "# Load saved models\n",
    "collaborative_model = joblib.load('collaborative_model.pkl')  # Loaded as a pandas DataFrame\n",
    "content_model = joblib.load('content_similarity_model.pkl')   # Assuming a sparse matrix or ndarray\n",
    "\n",
    "#Load dataset. It will help us find which product is recomended using their product id\n",
    "metadata = pd.read_json('meta_All_Beauty.jsonl', lines=True)\n",
    "\n",
    "product_id_to_asin = dict(zip(metadata.index, metadata['parent_asin']))\n",
    "\n",
    "# There's a mapping between product IDs in the sparse matrix and ASINs (ASINs is unique product id in dataset)\n",
    "# So we need to create a mapping from the sparse matrix indices to ASINs\n",
    "# Here, product IDs correspond to the index of the `metadata` DataFrame\n",
    "product_id_to_asin = dict(zip(metadata.index, metadata['parent_asin']))\n",
    "\n",
    "\n",
    "# Extract list of users\n",
    "list_users_result = collaborative_model.index.tolist()  # Adjust as per your model's structure\n",
    "\n",
    "# Extract product IDs\n",
    "coo_matrix = content_model.tocoo()  # Convert to COO format to access row and column indices\n",
    "product_ids = list(set(map(int, coo_matrix.row)))  # Get unique product IDs from row indices\n",
    "#print(\"Product IDs:\", product_ids)  # Debug print statement\n",
    "\n",
    "app = Flask(__name__)\n",
    "\n",
    "@app.route('/generate-random-users', methods=['GET'])\n",
    "def generate_random_users():\n",
    "    random_users = random.sample(list_users_result, 5)\n",
    "    return jsonify({'users': random_users})\n",
    "\n",
    "@app.route('/generate-random-products', methods=['GET'])\n",
    "def generate_random_products():\n",
    "    # Generate 5 random product IDs each time\n",
    "    products = random.sample(product_ids, 5)\n",
    "    #print(\"Random Products:\", products)  # Debug print statement\n",
    "    return jsonify({'products': products})\n",
    "\n",
    "def find_titles_from_ids(random_ids, id_to_asin_map, metadata):\n",
    "    if len(random_ids) > 5:\n",
    "        random_ids = random_ids[:5]\n",
    "\n",
    "    titles = []\n",
    "    for product_id in random_ids:\n",
    "        asin = id_to_asin_map.get(product_id)\n",
    "        if asin:\n",
    "            title = metadata.loc[metadata['parent_asin'] == asin, 'title'].values\n",
    "            titles.append(title[0] if len(title) > 0 else \"Title not found\")\n",
    "        else:\n",
    "            titles.append(\"ASIN not found for product ID\")\n",
    "    return titles\n",
    "\n",
    "    \n",
    "    \n",
    "@app.route('/get-titles-from-ids', methods=['POST'])\n",
    "def get_titles_from_ids():\n",
    "    try:\n",
    "        # Log the incoming request data\n",
    "        print(\"Request data received:\", request.data)\n",
    "        data = request.json\n",
    "        print(\"Parsed JSON data:\", data)\n",
    "        \n",
    "        # Extract product IDs\n",
    "        random_ids = data.get('product_ids', [])\n",
    "        print(\"Product IDs received:\", random_ids)\n",
    "        \n",
    "        # Initialize an empty list to store results\n",
    "        results = []\n",
    "        \n",
    "        for product_id in random_ids:\n",
    "            title = find_titles_from_ids([product_id], product_id_to_asin, metadata)\n",
    "            # Create a dictionary for each product_id and its corresponding title\n",
    "            results.append({'product_id': product_id, 'title': title[0]})\n",
    "        \n",
    "        # Return the result\n",
    "        response = jsonify({'results': results})\n",
    "        print(\"Response data:\", response.get_json())\n",
    "        return response\n",
    "    except Exception as e:\n",
    "        # Log any errors\n",
    "        print(f\"Error: {e}\")\n",
    "        return jsonify({'error': str(e)}), 500\n",
    "\n",
    "\n",
    "\n",
    "\n",
    "# Function to find the product title using parent_asin\n",
    "def find_title_by_parent_asin(parent_asin, metadata):\n",
    "    result = metadata.loc[metadata['parent_asin'] == parent_asin, 'title']\n",
    "    if not result.empty:\n",
    "        return result.iloc[0]\n",
    "    return \"Title not found for the given parent_asin.\"\n",
    "\n",
    "# Function to process a list of poduct IDs and return titles\n",
    "def process_user_ids(product_ids, metadata):\n",
    "    if len(product_ids) > 5:\n",
    "        print(\"Error: The list should contain a maximum of 5 user IDs.\")\n",
    "        return []\n",
    "    \n",
    "    titles = []\n",
    "    for product_id in product_ids:\n",
    "        title_by_parent_asin = find_title_by_parent_asin(product_id, metadata)\n",
    "        titles.append(title_by_parent_asin)\n",
    "    \n",
    "    return titles\n",
    "\n",
    "\n",
    "@app.route('/get-titles-from-asin', methods=['POST'])\n",
    "def get_titles_from_asin():\n",
    "    data = request.json\n",
    "    parent_asins = data.get('parent_asins', [])\n",
    "    if len(parent_asins) > 5:\n",
    "        parent_asins = parent_asins[:5]\n",
    "    \n",
    "    # Initialize an empty list to store results\n",
    "    results = []\n",
    "    \n",
    "    for parent_asin in parent_asins:\n",
    "        title = find_title_by_parent_asin(parent_asin, metadata)\n",
    "        # Create a dictionary for each parent_asin and its corresponding title\n",
    "        results.append({'parent_asin': parent_asin, 'title': title})\n",
    "    \n",
    "    return jsonify({'results': results})\n",
    "\n",
    "\n",
    "\n",
    "def get_recommendations(method, user_id=None, item_id=None):\n",
    "    if method == 'collaborative':\n",
    "        if user_id is None:\n",
    "            return {\"error\": \"user_id is required for collaborative recommendations\"}\n",
    "        \n",
    "        try:\n",
    "            # Fetch user ratings from collaborative model\n",
    "            user_ratings = collaborative_model.loc[user_id]\n",
    "            recommendations = user_ratings.sort_values(ascending=False).head(5).index.tolist()\n",
    "        except KeyError:\n",
    "            return {\"error\": f\"User ID '{user_id}' not found in the collaborative model\"}\n",
    "\n",
    "    elif method == 'content':\n",
    "        if item_id is None:\n",
    "            return {\"error\": \"item_id is required for content-based recommendations\"}\n",
    "        \n",
    "        try:\n",
    "            # Fetch item similarities from content model\n",
    "            item_similarities = content_model[item_id].toarray().flatten()\n",
    "            recommendations = np.argsort(item_similarities)[-5:][::-1].tolist()\n",
    "        except IndexError:\n",
    "            return {\"error\": f\"Item ID {item_id} not found in the content model\"}\n",
    "    else:\n",
    "        return {\"error\": \"Invalid method\"}\n",
    "    \n",
    "    return recommendations\n",
    "\n",
    "@app.route('/')\n",
    "def home():\n",
    "    return render_template('index.html')\n",
    "\n",
    "@app.route('/recommend', methods=['GET'])\n",
    "def recommend():\n",
    "    user_id = request.args.get('user_id')  # User ID is a string\n",
    "    item_id = request.args.get('item_id', type=int)\n",
    "    method = request.args.get('method', 'collaborative')  # Default to collaborative\n",
    "\n",
    "    recommendations = get_recommendations(method, user_id, item_id)\n",
    "    \n",
    "    if isinstance(recommendations, dict) and \"error\" in recommendations:\n",
    "        return jsonify(recommendations), 400\n",
    "\n",
    "    return jsonify({\"recommendations\": recommendations})\n",
    "    \n",
    "if __name__ == '__main__':\n",
    "    import os\n",
    "    os.environ[\"FLASK_DEBUG\"] = \"development\"\n",
    "    app.run(debug=True, use_reloader=False)\n",
    "\n"
   ]
  },
  {
   "cell_type": "code",
   "execution_count": null,
   "id": "aa70bed8-f998-441b-ab94-27218fcdaa2f",
   "metadata": {},
   "outputs": [],
   "source": [
    "# Run the App\n",
    "#Place the index.html in the same directory as your Flask app inside template folder.\n",
    "\n",
    "\n",
    "# To Run the Flask app run your terminal:\n",
    "python app.py\n",
    "\n",
    "#Access the app in your browser at http://127.0.0.1:5000.\n",
    "\n",
    "\n"
   ]
  },
  {
   "cell_type": "code",
   "execution_count": null,
   "id": "85eb7068-deb3-414a-be02-921d1fd87b1b",
   "metadata": {},
   "outputs": [],
   "source": [
    "# to run and test the recomended model\n",
    "#open your terminal or CMD and navigate to Recommendation folder\n",
    "# To Run the Flask app type below on the termincal and press enter:\n",
    "python app.py\n",
    "#Access the app in your browser at http://127.0.0.1:5000."
   ]
  },
  {
   "cell_type": "markdown",
   "id": "63b7d661-deb3-4b08-9b6c-30c83c35f99b",
   "metadata": {},
   "source": [
    "Below code will help to test the recommendation model on jupiter note book "
   ]
  },
  {
   "cell_type": "code",
   "execution_count": 5,
   "id": "7b8a2ba7-1041-4a7a-92a4-6970bb39bed8",
   "metadata": {
    "tags": []
   },
   "outputs": [],
   "source": [
    "from scipy.sparse import coo_matrix\n",
    "import joblib\n",
    "content_model = joblib.load('content_similarity_model.pkl')\n",
    "coo_matrix = content_model.tocoo()  # Convert to COO format"
   ]
  },
  {
   "cell_type": "code",
   "execution_count": 11,
   "id": "e6d42b43-50de-4635-8e98-757d59e18722",
   "metadata": {
    "tags": []
   },
   "outputs": [],
   "source": [
    "metadata = pd.read_json('meta_All_Beauty.jsonl', lines=True)"
   ]
  },
  {
   "cell_type": "code",
   "execution_count": 12,
   "id": "1f5e0a27-6946-4231-ad4e-aab0c02324e9",
   "metadata": {
    "tags": []
   },
   "outputs": [],
   "source": [
    "product_id_to_asin = dict(zip(metadata.index, metadata['parent_asin']))"
   ]
  },
  {
   "cell_type": "code",
   "execution_count": 13,
   "id": "a7e15f1c-c273-4ce4-9b84-e08ff2eda094",
   "metadata": {
    "tags": []
   },
   "outputs": [],
   "source": [
    "random_ids = [79668, 18107, 72875, 56161, 13208]"
   ]
  },
  {
   "cell_type": "code",
   "execution_count": null,
   "id": "6025810c-9f51-4898-9b30-6648abaac4fd",
   "metadata": {},
   "outputs": [],
   "source": [
    "# Prompt user to enter exactly 5 product IDs\n",
    "while True:\n",
    "    user_input = input(\"Enter 5 product IDs separated by commas: \").strip()\n",
    "    random_ids = [item.strip() for item in user_input.split(\",\") if item.strip()]\n",
    "    if len(random_ids) == 5:\n",
    "        break\n",
    "    else:\n",
    "        print(\"Please enter exactly 5 product IDs.\")"
   ]
  },
  {
   "cell_type": "code",
   "execution_count": 14,
   "id": "3f670b0e-c726-45e7-a1ac-36e9ddea3e28",
   "metadata": {},
   "outputs": [],
   "source": [
    "\n",
    "# Function to find product titles using product ID\n",
    "def find_titles_from_ids(random_ids, id_to_asin_map, metadata):\n",
    "    titles = []\n",
    "    for product_id in random_ids:\n",
    "        asin = id_to_asin_map.get(product_id)\n",
    "        if asin:\n",
    "            title = metadata.loc[metadata['parent_asin'] == asin, 'title'].values\n",
    "            titles.append(title[0] if len(title) > 0 else \"Title not found\")\n",
    "        else:\n",
    "            titles.append(\"ASIN not found for product ID\")\n",
    "    return titles\n",
    "\n",
    "\n"
   ]
  },
  {
   "cell_type": "code",
   "execution_count": 15,
   "id": "2404ca83-57bd-47a5-b829-a0a7ed17a39a",
   "metadata": {
    "tags": []
   },
   "outputs": [
    {
     "name": "stdout",
     "output_type": "stream",
     "text": [
      "\n",
      "Product Titles for Entered Product IDs:\n",
      "==================================================\n",
      "Product ID: 79668      | Title: Exfoliating shampoo for hair regrowth CRESCINA LABO TRANSDERMIC RE-GROWTH Shampoo for women 200 ml\n",
      "Product ID: 18107      | Title: Yellow Beeswax Pellets sourced from a USDA and ISO 9001 Certified Organic Supplier\n",
      "Product ID: 72875      | Title: LA COLORS Shimmer & Shine Metal Polish Set\n",
      "Product ID: 56161      | Title: Goop glow Body Luminizer 2.7 Fl. Oz! Pale-Gold Candlelit Glow Body Shimmer! Instantly Blurs Imperfections! Leaves Flattering Highlights On All Skin Tones! W Bonus Face Scrub\n",
      "Product ID: 13208      | Title: Village Naturals Muscle Aches & Pains Relief Lotion & Foaming Bath Oil Body Wash Relaxing Set\n",
      "==================================================\n"
     ]
    }
   ],
   "source": [
    "# Get titles for the entered product IDs\n",
    "titles = find_titles_from_ids(random_ids, product_id_to_asin, metadata)\n",
    "\n",
    "# Print the results in a neat format\n",
    "print(\"\\nProduct Titles for Entered Product IDs:\")\n",
    "print(\"=\" * 50)\n",
    "for pid, title in zip(random_ids, titles):\n",
    "    print(f\"Product ID: {pid:<10} | Title: {title}\")\n",
    "print(\"=\" * 50)"
   ]
  },
  {
   "cell_type": "code",
   "execution_count": 3,
   "id": "4bf3c8f3-6f9f-4ea3-a699-fa623ebda45b",
   "metadata": {
    "tags": []
   },
   "outputs": [
    {
     "name": "stdout",
     "output_type": "stream",
     "text": [
      "\n"
     ]
    }
   ],
   "source": [
    "print()"
   ]
  },
  {
   "cell_type": "code",
   "execution_count": 10,
   "id": "ef765ea2-4fe4-4948-bdc7-a6941879f05a",
   "metadata": {
    "tags": []
   },
   "outputs": [],
   "source": [
    "metadata = pd.read_json('meta_All_Beauty.jsonl', lines=True)"
   ]
  },
  {
   "cell_type": "code",
   "execution_count": 16,
   "id": "dc0447a5-9ee8-47f1-9ae9-6ac35d5674e1",
   "metadata": {
    "tags": []
   },
   "outputs": [],
   "source": [
    "parent_asin =  ['B007IAE5WY', 'B00EEN2HCS', 'B07C533XCW', 'B00R1TAN7I', 'B08L5KN7X4']"
   ]
  },
  {
   "cell_type": "code",
   "execution_count": 17,
   "id": "1acb19ff-f852-4fcf-8db9-ae3e3bd57832",
   "metadata": {},
   "outputs": [],
   "source": [
    "# Function to find the product title using parent_asin\n",
    "def find_title_by_parent_asin(parent_asin, metadata):\n",
    "    result = metadata.loc[metadata['parent_asin'] == parent_asin, 'title']\n",
    "    if not result.empty:\n",
    "        return result.iloc[0]\n",
    "    return \"Title not found for the given parent_asin.\"\n",
    "\n",
    "# Function to process a list of poduct IDs and return titles\n",
    "def process_user_ids(product_ids, metadata):\n",
    "    if len(product_ids) > 5:\n",
    "        print(\"Error: The list should contain a maximum of 5 user IDs.\")\n",
    "        return []\n",
    "    \n",
    "    titles = []\n",
    "    for product_id in product_ids:\n",
    "        title_by_parent_asin = find_title_by_parent_asin(product_id, metadata)\n",
    "        titles.append(title_by_parent_asin)\n",
    "    \n",
    "    return titles\n",
    "\n",
    "\n"
   ]
  },
  {
   "cell_type": "code",
   "execution_count": 18,
   "id": "493468c3-85fc-43e1-97f6-f7e795851028",
   "metadata": {
    "tags": []
   },
   "outputs": [
    {
     "name": "stdout",
     "output_type": "stream",
     "text": [
      "['Title not found for the given parent_asin.', 'Title not found for the given parent_asin.', 'Segbeauty empty bottle 160083', 'GranNaturals Boar Bristle Smoothing Hair Brush for Women and Men - Medium/Soft Bristles - Natural Wooden Large Flat Square Paddle Hairbrush for Fine, Thin, Straight, Long, or Short Hair', 'Meeteasy Dental Cleaner Tool Kit - Dental Care for Adult - 100% Proven Safe']\n"
     ]
    }
   ],
   "source": [
    "# Example usage with a list of user IDs\n",
    "product_ids = parent_asin\n",
    "titles = process_user_ids(product_ids, metadata)\n",
    "print(titles)"
   ]
  },
  {
   "cell_type": "code",
   "execution_count": 51,
   "id": "7a74a5be-678e-4940-92f2-e38825e44083",
   "metadata": {
    "tags": []
   },
   "outputs": [
    {
     "name": "stdout",
     "output_type": "stream",
     "text": [
      "\n",
      "Product Titles for Entered Product IDs:\n",
      "==================================================\n",
      "Product ID: B007IAE5WY | Title: Title not found for the given parent_asin.\n",
      "Product ID: B00EEN2HCS | Title: Title not found for the given parent_asin.\n",
      "Product ID: B07C533XCW | Title: {'Brand': 'Segbeauty', 'Material': 'Plastic', 'Capacity': '160 Milliliters', 'Recommended Uses For Product': 'Water,Cleansing,Hair Spray,Indoor', 'Number of Items': '1', 'Is Discontinued By Manufacturer': 'No', 'Product Dimensions': '8 x 2 x 2 inches; 3.52 Ounces', 'Item model number': 'AM-160083-A01-JPN', 'UPC': '612520575953'}\n",
      "Product ID: B00R1TAN7I | Title: {'Brand': 'GranNaturals', 'Color': 'Brown, Black', 'Shape': 'Square', 'Handle Material': 'Wood', 'Product Benefits': 'Smoothing', 'Is Discontinued By Manufacturer': 'No', 'Package Dimensions': '10 x 3.43 x 1.57 inches; 4.23 Ounces', 'Item model number': '753807366748000', 'UPC': '753807366748 794168026971', 'Manufacturer': 'Gran Goods'}\n",
      "Product ID: B08L5KN7X4 | Title: {'Is Discontinued By Manufacturer': 'No', 'Package Dimensions': '8.86 x 3.19 x 1.42 inches; 7.37 Ounces', 'Item model number': 'dental', 'UPC': '616859970908'}\n",
      "==================================================\n"
     ]
    }
   ],
   "source": [
    "# Print the results in a neat format\n",
    "print(\"\\nProduct Titles for Entered Product IDs:\")\n",
    "print(\"=\" * 50)\n",
    "for pid, title in zip(parent_asin, titles):\n",
    "    print(f\"Product ID: {pid:<10} | Title: {title}\")\n",
    "print(\"=\" * 50)"
   ]
  }
 ],
 "metadata": {
  "kernelspec": {
   "display_name": "Python 3 (ipykernel)",
   "language": "python",
   "name": "python3"
  },
  "language_info": {
   "codemirror_mode": {
    "name": "ipython",
    "version": 3
   },
   "file_extension": ".py",
   "mimetype": "text/x-python",
   "name": "python",
   "nbconvert_exporter": "python",
   "pygments_lexer": "ipython3",
   "version": "3.11.5"
  }
 },
 "nbformat": 4,
 "nbformat_minor": 5
}
